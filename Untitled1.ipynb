{
 "cells": [
  {
   "cell_type": "code",
   "execution_count": 1,
   "metadata": {},
   "outputs": [],
   "source": [
    "import json\n",
    "from  collections import defaultdict\n",
    "from datetime import datetime\n",
    "from IPython.display import HTML\n",
    "\n",
    "data = json.loads(open('data/commit_activity.json').read())\n",
    "series = defaultdict(int)\n",
    "for d in data:\n",
    "    month = datetime.fromtimestamp(d['week']).month\n",
    "    series[month] += d['total']"
   ]
  },
  {
   "cell_type": "code",
   "execution_count": 10,
   "metadata": {},
   "outputs": [
    {
     "name": "stdout",
     "output_type": "stream",
     "text": [
      "[12, 29, 19, 40, 20, 10, 17, 67, 16, 23, 27, 7]\n"
     ]
    },
    {
     "data": {
      "text/html": [
       "\n",
       "<script src=\"https://code.highcharts.com/highcharts.js\"></script>\n",
       "<script src=\"https://code.highcharts.com/modules/exporting.js\"></script>\n",
       "<script src=\"https://code.highcharts.com/modules/export-data.js\"></script>\n",
       "\n",
       "<div id=\"container\" style=\"min-width: 310px; max-width: 800px; height: 400px; margin: 0 auto\"></div>\n",
       "\n",
       "<script>\n",
       "   \n",
       "Highcharts.chart('container', {\n",
       "  chart: {\n",
       "    type: 'column'\n",
       "  },\n",
       "  title: {\n",
       "    text: 'Stacked bar chart'\n",
       "  },\n",
       "  xAxis: {\n",
       "    categories: ['Apples', 'Oranges', 'Pears', 'Grapes', 'Bananas']\n",
       "  },\n",
       "  yAxis: {\n",
       "    min: 0,\n",
       "    title: {\n",
       "      text: 'Total fruit consumption'\n",
       "    }\n",
       "  },\n",
       "  legend: {\n",
       "    reversed: true\n",
       "  },\n",
       "  plotOptions: {\n",
       "    series: {\n",
       "      stacking: 'normal'\n",
       "    }\n",
       "  },\n",
       "  series: [{\n",
       "    name: 'C',\n",
       "    data: [5, 3, 4, 7, 2]\n",
       "  }, {\n",
       "    name: 'B',\n",
       "    data: [2, 2, 3, 2, 1]\n",
       "  }, {\n",
       "    name: 'A',\n",
       "    data: [5, 3, 4, 7, 2]\n",
       "  }]\n",
       "});\n",
       "</script>\n"
      ],
      "text/plain": [
       "<IPython.core.display.HTML object>"
      ]
     },
     "execution_count": 10,
     "metadata": {},
     "output_type": "execute_result"
    }
   ],
   "source": [
    "\n",
    "print(list(series.values()))\n",
    "HTML('''\n",
    "<script src=\"https://code.highcharts.com/highcharts.js\"></script>\n",
    "<script src=\"https://code.highcharts.com/modules/exporting.js\"></script>\n",
    "<script src=\"https://code.highcharts.com/modules/export-data.js\"></script>\n",
    "\n",
    "<div id=\"container\" style=\"min-width: 310px; max-width: 800px; height: 400px; margin: 0 auto\"></div>\n",
    "\n",
    "<script>\n",
    "   \n",
    "Highcharts.chart('container', {\n",
    "  chart: {\n",
    "    type: 'column'\n",
    "  },\n",
    "  title: {\n",
    "    text: 'Stacked bar chart'\n",
    "  },\n",
    "  xAxis: {\n",
    "    categories: ['Apples', 'Oranges', 'Pears', 'Grapes', 'Bananas']\n",
    "  },\n",
    "  yAxis: {\n",
    "    min: 0,\n",
    "    title: {\n",
    "      text: 'Total fruit consumption'\n",
    "    }\n",
    "  },\n",
    "  legend: {\n",
    "    reversed: true\n",
    "  },\n",
    "  plotOptions: {\n",
    "    series: {\n",
    "      stacking: 'normal'\n",
    "    }\n",
    "  },\n",
    "  series: [{\n",
    "    name: 'C',\n",
    "    data: [5, 3, 4, 7, 2]\n",
    "  }, {\n",
    "    name: 'B',\n",
    "    data: [2, 2, 3, 2, 1]\n",
    "  }, {\n",
    "    name: 'A',\n",
    "    data: %s\n",
    "  }]\n",
    "});\n",
    "</script>\n",
    "''' % ([5, 3, 4, 7, 2],))"
   ]
  },
  {
   "cell_type": "code",
   "execution_count": null,
   "metadata": {},
   "outputs": [],
   "source": []
  },
  {
   "cell_type": "code",
   "execution_count": null,
   "metadata": {},
   "outputs": [],
   "source": []
  },
  {
   "cell_type": "code",
   "execution_count": null,
   "metadata": {},
   "outputs": [],
   "source": []
  },
  {
   "cell_type": "code",
   "execution_count": null,
   "metadata": {},
   "outputs": [],
   "source": []
  },
  {
   "cell_type": "code",
   "execution_count": null,
   "metadata": {},
   "outputs": [],
   "source": []
  }
 ],
 "metadata": {
  "kernelspec": {
   "display_name": "Python 3",
   "language": "python",
   "name": "python3"
  },
  "language_info": {
   "codemirror_mode": {
    "name": "ipython",
    "version": 3
   },
   "file_extension": ".py",
   "mimetype": "text/x-python",
   "name": "python",
   "nbconvert_exporter": "python",
   "pygments_lexer": "ipython3",
   "version": "3.5.5"
  }
 },
 "nbformat": 4,
 "nbformat_minor": 2
}
